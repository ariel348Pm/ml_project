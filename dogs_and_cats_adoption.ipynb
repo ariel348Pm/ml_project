{
 "cells": [
  {
   "cell_type": "code",
   "execution_count": 1,
   "metadata": {},
   "outputs": [],
   "source": [
    "import pandas as pd\n",
    "import numpy as np\n",
    "\n",
    "train_org = pd.read_csv(\"train.csv\")\n",
    "test = pd.read_csv(\"test.csv\")\n",
    "sample = pd.read_csv(\"sample_submission.csv\")\n",
    "train = train_org.drop(['OutcomeSubtype', \"AnimalID\"], axis='columns', inplace=False)"
   ]
  },
  {
   "cell_type": "code",
   "execution_count": 3,
   "metadata": {},
   "outputs": [
    {
     "name": "stdout",
     "output_type": "stream",
     "text": [
      "(11134, 83)\n",
      "(15595, 370)\n"
     ]
    }
   ],
   "source": [
    "def getAge(age):\n",
    "    age = age.split(\" \")\n",
    "    time = age[1]\n",
    "    num = age[0]\n",
    "    if time == \"year\" or time == \"years\":\n",
    "        return float(num)\n",
    "    if time == \"month\" or time == \"months\":\n",
    "        return float(num) / 12\n",
    "    if time == \"week\" or time == \"weeks\":\n",
    "        return float(num) / (4 * 12)\n",
    "    if time == \"day\" or time == \"days\":\n",
    "        return float(num) / (4 * 7 * 12)\n",
    "    \n",
    "def nameLength(name):\n",
    "    return len(name)\n",
    "\n",
    "def simplifyColor(color):\n",
    "    return color.split(\"/\")[0].split(\" \")[0]\n",
    "  \n",
    "def isMix(breed):\n",
    "    if breed.endswith(' mix'):\n",
    "        return 1\n",
    "    if breed.find(\"/\") != -1:\n",
    "        return 1\n",
    "    return 0\n",
    "\n",
    "def isSpayedNeutered(sex):\n",
    "    if sex.startswith(\"Spayed\") or sex.startswith(\"Neutered\"):\n",
    "        return 1\n",
    "    return 0\n",
    "\n",
    "def simplifyBreed(breed):\n",
    "    breed = breed.split(\"/\")[0]\n",
    "    if breed.endswith(' mix'):\n",
    "        breed = breed[:-4]\n",
    "    return breed\n",
    "    \n",
    "def encodeFeatures(df_in, hotEncode):\n",
    "    df = df_in.copy()\n",
    "    # Encode has name\n",
    "    hasname = df.Name.isnull().astype(int)\n",
    "    # Encode name length\n",
    "    nameslength = df.Name\n",
    "    nameslength[df.Name.notna()] = df.Name[df.Name.notna()].apply(nameLength)\n",
    "    nameslength[df.Name.isnull()] = -1\n",
    "    nameslength.name = \"NamesLength\"\n",
    "\n",
    "    # Encode date\n",
    "    dates = pd.to_datetime(df.DateTime)\n",
    "    year = dates.dt.year\n",
    "    year = year - year.min()\n",
    "    year.name = \"Year\"\n",
    "    month = dates.dt.month\n",
    "    month.name = \"Month\"\n",
    "    day = dates.dt.day\n",
    "    day.name = \"Day\"\n",
    "\n",
    "    weekday = dates.dt.dayofweek\n",
    "    weekday.name = \"Weekday\"\n",
    "    if hotEncode:\n",
    "        weekday = pd.get_dummies(weekday, prefix=\"Weekday\")\n",
    "\n",
    "    # Encode age\n",
    "    ages = df.AgeuponOutcome\n",
    "    ages[df.AgeuponOutcome.notna()] = df.AgeuponOutcome[df.AgeuponOutcome.notna()].apply(getAge)\n",
    "    mean_age = ages[df.AgeuponOutcome.notna()].mean()\n",
    "    ages[df.AgeuponOutcome.isnull()] = mean_age\n",
    "    \n",
    "    # One-Hot Encode type, sex, breed and color\n",
    "    df['SexuponOutcome'][df['SexuponOutcome'].isnull()] = 'Unknown'\n",
    "    df['Color'] = df['Color'].apply(simplifyColor)\n",
    "    df['Breed'] = df['Breed'].apply(simplifyBreed)\n",
    "    if hotEncode:\n",
    "        breed = pd.get_dummies(df['Breed'])\n",
    "        color = pd.get_dummies(df['Color'])\n",
    "    else:\n",
    "        animalType = df['AnimalType']\n",
    "        breed = df['Breed']\n",
    "        color = df['Color']\n",
    "        \n",
    "    mix = df['Breed'].copy().apply(isMix)\n",
    "    spayed = df['SexuponOutcome'].apply(isSpayedNeutered)\n",
    "    \n",
    "\n",
    "\n",
    "    return pd.concat([hasname, nameslength, year, month, day, weekday, ages, spayed,\n",
    "                      breed, mix, color], axis=1)\n",
    "\n",
    "def encodeLabels(df, hotEncode):\n",
    "    return df['OutcomeType']\n",
    "\n",
    "\n",
    "\n",
    "encode = True\n",
    "\n",
    "X_cat = encodeFeatures(train[train['AnimalType'] == \"Cat\"], encode)\n",
    "y_cat = encodeLabels(train[train['AnimalType'] == \"Cat\"], encode)\n",
    "X_dog = encodeFeatures(train[train['AnimalType'] == \"Dog\"], encode)\n",
    "y_dog = encodeLabels(train[train['AnimalType'] == \"Dog\"], encode)\n",
    "print(X_cat.shape)\n",
    "print(X_dog.shape)"
   ]
  },
  {
   "cell_type": "code",
   "execution_count": 4,
   "metadata": {},
   "outputs": [
    {
     "name": "stdout",
     "output_type": "stream",
     "text": [
      "Log-loss: 0.9886145930559224\n",
      "Log-loss: 1.1548602534915637\n"
     ]
    }
   ],
   "source": [
    "from sklearn.model_selection import train_test_split\n",
    "from sklearn.preprocessing import StandardScaler\n",
    "from sklearn.ensemble import RandomForestClassifier\n",
    "from sklearn import metrics\n",
    "\n",
    "def getModel(X, y):\n",
    "    X = np.array(X)\n",
    "    y = np.array(y)\n",
    "    X_train, X_test, y_train, y_test = train_test_split(X, y, test_size=0.15, random_state=0)\n",
    "    # # Feature Scaling\n",
    "    # if encode:\n",
    "    #     sc = StandardScaler()\n",
    "    #     X_train = sc.fit_transform(X_train)\n",
    "    #     X_test = sc.transform(X_test)\n",
    "\n",
    "    clf = RandomForestClassifier(n_estimators=50)\n",
    "\n",
    "    clf.fit(X_train,y_train)\n",
    "\n",
    "    y_pred = np.array(clf.predict_proba(X_test))\n",
    "    # Model Accuracy, how often is the classifier correct?\n",
    "    print(\"Log-loss:\",metrics.log_loss(y_test, y_pred))\n",
    "    return clf\n",
    "\n",
    "cat_clf = getModel(X_cat, y_cat)\n",
    "dog_clf = getModel(X_dog, y_dog)"
   ]
  },
  {
   "cell_type": "code",
   "execution_count": 5,
   "metadata": {},
   "outputs": [
    {
     "ename": "ValueError",
     "evalue": "Number of features of the model must match the input. Model n_features is 370 and input n_features is 328 ",
     "output_type": "error",
     "traceback": [
      "\u001b[1;31m---------------------------------------------------------------------------\u001b[0m",
      "\u001b[1;31mValueError\u001b[0m                                Traceback (most recent call last)",
      "\u001b[1;32m<ipython-input-5-e7e2523b0d98>\u001b[0m in \u001b[0;36m<module>\u001b[1;34m\u001b[0m\n\u001b[0;32m      7\u001b[0m \u001b[1;31m# אולי חסרות עמודות לאנקודינג לעומת הסדרת אימון. מה לעשות?\u001b[0m\u001b[1;33m\u001b[0m\u001b[1;33m\u001b[0m\u001b[1;33m\u001b[0m\u001b[0m\n\u001b[0;32m      8\u001b[0m \u001b[1;33m\u001b[0m\u001b[0m\n\u001b[1;32m----> 9\u001b[1;33m \u001b[0mtest_pred\u001b[0m\u001b[1;33m[\u001b[0m\u001b[0mtest\u001b[0m\u001b[1;33m.\u001b[0m\u001b[0mAnimalType\u001b[0m \u001b[1;33m==\u001b[0m \u001b[1;34m\"Dog\"\u001b[0m\u001b[1;33m]\u001b[0m \u001b[1;33m=\u001b[0m \u001b[0mdog_clf\u001b[0m\u001b[1;33m.\u001b[0m\u001b[0mpredict_proba\u001b[0m\u001b[1;33m(\u001b[0m\u001b[0mtest_features_dog\u001b[0m\u001b[1;33m)\u001b[0m\u001b[1;33m\u001b[0m\u001b[1;33m\u001b[0m\u001b[0m\n\u001b[0m\u001b[0;32m     10\u001b[0m \u001b[0mtest_pred\u001b[0m\u001b[1;33m[\u001b[0m\u001b[0mtest\u001b[0m\u001b[1;33m.\u001b[0m\u001b[0mAnimalType\u001b[0m \u001b[1;33m==\u001b[0m \u001b[1;34m\"Cat\"\u001b[0m\u001b[1;33m]\u001b[0m \u001b[1;33m=\u001b[0m \u001b[0mdog_clf\u001b[0m\u001b[1;33m.\u001b[0m\u001b[0mpredict_proba\u001b[0m\u001b[1;33m(\u001b[0m\u001b[0mtest_features_cat\u001b[0m\u001b[1;33m)\u001b[0m\u001b[1;33m\u001b[0m\u001b[1;33m\u001b[0m\u001b[0m\n\u001b[0;32m     11\u001b[0m \u001b[1;33m\u001b[0m\u001b[0m\n",
      "\u001b[1;32m~\\anaconda3\\lib\\site-packages\\sklearn\\ensemble\\_forest.py\u001b[0m in \u001b[0;36mpredict_proba\u001b[1;34m(self, X)\u001b[0m\n\u001b[0;32m    671\u001b[0m         \u001b[0mcheck_is_fitted\u001b[0m\u001b[1;33m(\u001b[0m\u001b[0mself\u001b[0m\u001b[1;33m)\u001b[0m\u001b[1;33m\u001b[0m\u001b[1;33m\u001b[0m\u001b[0m\n\u001b[0;32m    672\u001b[0m         \u001b[1;31m# Check data\u001b[0m\u001b[1;33m\u001b[0m\u001b[1;33m\u001b[0m\u001b[1;33m\u001b[0m\u001b[0m\n\u001b[1;32m--> 673\u001b[1;33m         \u001b[0mX\u001b[0m \u001b[1;33m=\u001b[0m \u001b[0mself\u001b[0m\u001b[1;33m.\u001b[0m\u001b[0m_validate_X_predict\u001b[0m\u001b[1;33m(\u001b[0m\u001b[0mX\u001b[0m\u001b[1;33m)\u001b[0m\u001b[1;33m\u001b[0m\u001b[1;33m\u001b[0m\u001b[0m\n\u001b[0m\u001b[0;32m    674\u001b[0m \u001b[1;33m\u001b[0m\u001b[0m\n\u001b[0;32m    675\u001b[0m         \u001b[1;31m# Assign chunk of trees to jobs\u001b[0m\u001b[1;33m\u001b[0m\u001b[1;33m\u001b[0m\u001b[1;33m\u001b[0m\u001b[0m\n",
      "\u001b[1;32m~\\anaconda3\\lib\\site-packages\\sklearn\\ensemble\\_forest.py\u001b[0m in \u001b[0;36m_validate_X_predict\u001b[1;34m(self, X)\u001b[0m\n\u001b[0;32m    419\u001b[0m         \u001b[0mcheck_is_fitted\u001b[0m\u001b[1;33m(\u001b[0m\u001b[0mself\u001b[0m\u001b[1;33m)\u001b[0m\u001b[1;33m\u001b[0m\u001b[1;33m\u001b[0m\u001b[0m\n\u001b[0;32m    420\u001b[0m \u001b[1;33m\u001b[0m\u001b[0m\n\u001b[1;32m--> 421\u001b[1;33m         \u001b[1;32mreturn\u001b[0m \u001b[0mself\u001b[0m\u001b[1;33m.\u001b[0m\u001b[0mestimators_\u001b[0m\u001b[1;33m[\u001b[0m\u001b[1;36m0\u001b[0m\u001b[1;33m]\u001b[0m\u001b[1;33m.\u001b[0m\u001b[0m_validate_X_predict\u001b[0m\u001b[1;33m(\u001b[0m\u001b[0mX\u001b[0m\u001b[1;33m,\u001b[0m \u001b[0mcheck_input\u001b[0m\u001b[1;33m=\u001b[0m\u001b[1;32mTrue\u001b[0m\u001b[1;33m)\u001b[0m\u001b[1;33m\u001b[0m\u001b[1;33m\u001b[0m\u001b[0m\n\u001b[0m\u001b[0;32m    422\u001b[0m \u001b[1;33m\u001b[0m\u001b[0m\n\u001b[0;32m    423\u001b[0m     \u001b[1;33m@\u001b[0m\u001b[0mproperty\u001b[0m\u001b[1;33m\u001b[0m\u001b[1;33m\u001b[0m\u001b[0m\n",
      "\u001b[1;32m~\\anaconda3\\lib\\site-packages\\sklearn\\tree\\_classes.py\u001b[0m in \u001b[0;36m_validate_X_predict\u001b[1;34m(self, X, check_input)\u001b[0m\n\u001b[0;32m    394\u001b[0m         \u001b[0mn_features\u001b[0m \u001b[1;33m=\u001b[0m \u001b[0mX\u001b[0m\u001b[1;33m.\u001b[0m\u001b[0mshape\u001b[0m\u001b[1;33m[\u001b[0m\u001b[1;36m1\u001b[0m\u001b[1;33m]\u001b[0m\u001b[1;33m\u001b[0m\u001b[1;33m\u001b[0m\u001b[0m\n\u001b[0;32m    395\u001b[0m         \u001b[1;32mif\u001b[0m \u001b[0mself\u001b[0m\u001b[1;33m.\u001b[0m\u001b[0mn_features_\u001b[0m \u001b[1;33m!=\u001b[0m \u001b[0mn_features\u001b[0m\u001b[1;33m:\u001b[0m\u001b[1;33m\u001b[0m\u001b[1;33m\u001b[0m\u001b[0m\n\u001b[1;32m--> 396\u001b[1;33m             raise ValueError(\"Number of features of the model must \"\n\u001b[0m\u001b[0;32m    397\u001b[0m                              \u001b[1;34m\"match the input. Model n_features is %s and \"\u001b[0m\u001b[1;33m\u001b[0m\u001b[1;33m\u001b[0m\u001b[0m\n\u001b[0;32m    398\u001b[0m                              \u001b[1;34m\"input n_features is %s \"\u001b[0m\u001b[1;33m\u001b[0m\u001b[1;33m\u001b[0m\u001b[0m\n",
      "\u001b[1;31mValueError\u001b[0m: Number of features of the model must match the input. Model n_features is 370 and input n_features is 328 "
     ]
    }
   ],
   "source": [
    "test_dog = test[test.AnimalType == \"Dog\"]\n",
    "test_cat = test[test.AnimalType == \"Cat\"]\n",
    "\n",
    "test_features_dog = encodeFeatures(test_dog.drop([\"ID\"], axis='columns', inplace=False), encode)\n",
    "test_features_cat = encodeFeatures(test_cat.drop([\"ID\"], axis='columns', inplace=False), encode)\n",
    "\n",
    "# אולי חסרות עמודות לאנקודינג לעומת הסדרת אימון. מה לעשות?\n",
    "\n",
    "test_pred[test.AnimalType == \"Dog\"] = dog_clf.predict_proba(test_features_dog)\n",
    "test_pred[test.AnimalType == \"Cat\"] = dog_clf.predict_proba(test_features_cat)\n",
    "\n",
    "prediction = pd.DataFrame(test_pred)\n",
    "prediction.columns = ['Adoption', 'Died', 'Euthanasia', 'Return_to_owner', 'Transfer']\n",
    "prediction = pd.concat([test['ID'], prediction], axis=1)\n",
    "prediction.to_csv('resuts.csv', index=False)"
   ]
  },
  {
   "cell_type": "code",
   "execution_count": null,
   "metadata": {},
   "outputs": [],
   "source": []
  }
 ],
 "metadata": {
  "kernelspec": {
   "display_name": "Python 3",
   "language": "python",
   "name": "python3"
  },
  "language_info": {
   "codemirror_mode": {
    "name": "ipython",
    "version": 3
   },
   "file_extension": ".py",
   "mimetype": "text/x-python",
   "name": "python",
   "nbconvert_exporter": "python",
   "pygments_lexer": "ipython3",
   "version": "3.8.3"
  }
 },
 "nbformat": 4,
 "nbformat_minor": 4
}
